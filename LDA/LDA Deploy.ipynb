{
 "cells": [
  {
   "cell_type": "code",
   "execution_count": 1,
   "id": "463b9946",
   "metadata": {},
   "outputs": [],
   "source": [
    "import warnings\n",
    "warnings.filterwarnings('ignore')"
   ]
  },
  {
   "cell_type": "code",
   "execution_count": 2,
   "id": "a02b331f",
   "metadata": {},
   "outputs": [],
   "source": [
    "import pickle"
   ]
  },
  {
   "cell_type": "code",
   "execution_count": 3,
   "id": "77658649",
   "metadata": {},
   "outputs": [],
   "source": [
    "sc=pickle.load(open(\"sc.pkl\",'rb'))"
   ]
  },
  {
   "cell_type": "code",
   "execution_count": 4,
   "id": "24bb1d7d",
   "metadata": {},
   "outputs": [],
   "source": [
    "lda=pickle.load(open(\"lda.pkl\",'rb'))"
   ]
  },
  {
   "cell_type": "code",
   "execution_count": 5,
   "id": "353e8cae",
   "metadata": {},
   "outputs": [],
   "source": [
    "new_input = ([[51.492308,80.000000,0.0,0.0,100.000000,49.000000,1.000000,140.000000,5.000000,16.300000,53.000000,8500.000000,4.900000,0,0,0,0,1,1,0,0,0,0,0,1,0,0]])"
   ]
  },
  {
   "cell_type": "code",
   "execution_count": 6,
   "id": "cd16ec10",
   "metadata": {},
   "outputs": [],
   "source": [
    "scaled_input = sc.transform(new_input)  \n",
    "lda_input = lda.transform(scaled_input)"
   ]
  },
  {
   "cell_type": "code",
   "execution_count": 7,
   "id": "c8a3b0bd",
   "metadata": {},
   "outputs": [],
   "source": [
    "loaded_model=pickle.load(open(\"finalized_model_Logistic.sav\",'rb')) \n",
    "result = loaded_model.predict(lda_input)"
   ]
  },
  {
   "cell_type": "code",
   "execution_count": 8,
   "id": "5a738092",
   "metadata": {},
   "outputs": [
    {
     "data": {
      "text/plain": [
       "array([0])"
      ]
     },
     "execution_count": 8,
     "metadata": {},
     "output_type": "execute_result"
    }
   ],
   "source": [
    "result"
   ]
  },
  {
   "cell_type": "code",
   "execution_count": null,
   "id": "da39abbe",
   "metadata": {},
   "outputs": [],
   "source": []
  },
  {
   "cell_type": "code",
   "execution_count": null,
   "id": "89fbbe4a",
   "metadata": {},
   "outputs": [],
   "source": []
  },
  {
   "cell_type": "code",
   "execution_count": null,
   "id": "44777e7a",
   "metadata": {},
   "outputs": [],
   "source": []
  }
 ],
 "metadata": {
  "kernelspec": {
   "display_name": "Python 3 (ipykernel)",
   "language": "python",
   "name": "python3"
  },
  "language_info": {
   "codemirror_mode": {
    "name": "ipython",
    "version": 3
   },
   "file_extension": ".py",
   "mimetype": "text/x-python",
   "name": "python",
   "nbconvert_exporter": "python",
   "pygments_lexer": "ipython3",
   "version": "3.7.1"
  }
 },
 "nbformat": 4,
 "nbformat_minor": 5
}
