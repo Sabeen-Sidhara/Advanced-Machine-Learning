{
 "cells": [
  {
   "cell_type": "code",
   "execution_count": 1,
   "id": "6182c20a",
   "metadata": {},
   "outputs": [],
   "source": [
    "import warnings\n",
    "warnings.filterwarnings('ignore')"
   ]
  },
  {
   "cell_type": "code",
   "execution_count": 2,
   "id": "c1fab62e",
   "metadata": {},
   "outputs": [],
   "source": [
    "import pickle"
   ]
  },
  {
   "cell_type": "code",
   "execution_count": 3,
   "id": "3fe17e82",
   "metadata": {},
   "outputs": [],
   "source": [
    "sc=pickle.load(open(\"sc.pkl\",'rb'))"
   ]
  },
  {
   "cell_type": "code",
   "execution_count": 4,
   "id": "43bc7d52",
   "metadata": {},
   "outputs": [],
   "source": [
    "kpca=pickle.load(open(\"kpca.pkl\",'rb'))"
   ]
  },
  {
   "cell_type": "code",
   "execution_count": 5,
   "id": "8527f3bb",
   "metadata": {},
   "outputs": [],
   "source": [
    "new_input = ([[51.492308,80.000000,0.0,0.0,100.000000,49.000000,1.000000,140.000000,5.000000,16.300000,53.000000,8500.000000,4.900000,0,0,0,0,1,1,0,0,0,0,0,1,0,0]])"
   ]
  },
  {
   "cell_type": "code",
   "execution_count": 6,
   "id": "560a0f98",
   "metadata": {},
   "outputs": [],
   "source": [
    "scaled_input = sc.transform(new_input)  \n",
    "kpca_input = kpca.transform(scaled_input)"
   ]
  },
  {
   "cell_type": "code",
   "execution_count": 7,
   "id": "9dac94c5",
   "metadata": {},
   "outputs": [],
   "source": [
    "loaded_model=pickle.load(open(\"finalized_model_Decision.sav\",'rb')) \n",
    "result = loaded_model.predict(kpca_input)"
   ]
  },
  {
   "cell_type": "code",
   "execution_count": 8,
   "id": "a31f4133",
   "metadata": {},
   "outputs": [
    {
     "data": {
      "text/plain": [
       "array([0])"
      ]
     },
     "execution_count": 8,
     "metadata": {},
     "output_type": "execute_result"
    }
   ],
   "source": [
    "result"
   ]
  }
 ],
 "metadata": {
  "kernelspec": {
   "display_name": "Python 3 (ipykernel)",
   "language": "python",
   "name": "python3"
  },
  "language_info": {
   "codemirror_mode": {
    "name": "ipython",
    "version": 3
   },
   "file_extension": ".py",
   "mimetype": "text/x-python",
   "name": "python",
   "nbconvert_exporter": "python",
   "pygments_lexer": "ipython3",
   "version": "3.7.1"
  }
 },
 "nbformat": 4,
 "nbformat_minor": 5
}
