{
 "cells": [
  {
   "cell_type": "code",
   "execution_count": 1,
   "id": "e3f2a274",
   "metadata": {},
   "outputs": [],
   "source": [
    "import pandas as pd\n",
    "from sklearn.model_selection import train_test_split \n",
    "import time\n",
    "import numpy as np\n",
    "from sklearn.preprocessing import StandardScaler\n",
    "from sklearn.feature_selection import SelectKBest\n",
    "from sklearn.feature_selection import chi2\n",
    "from sklearn.feature_selection import RFE\n",
    "from sklearn.linear_model import LogisticRegression\n",
    "import pickle\n",
    "import matplotlib.pyplot as plt\n",
    "from sklearn.neighbors import KNeighborsClassifier   \n",
    "from sklearn.svm import SVC\n",
    "from sklearn.ensemble import RandomForestClassifier\n",
    "from sklearn.naive_bayes import GaussianNB\n",
    "from sklearn.tree import DecisionTreeClassifier\n",
    "from mlxtend.feature_selection import SequentialFeatureSelector as sfs\n"
   ]
  },
  {
   "cell_type": "code",
   "execution_count": 2,
   "id": "b1324d91",
   "metadata": {},
   "outputs": [],
   "source": [
    "import warnings\n",
    "warnings.filterwarnings('ignore')"
   ]
  },
  {
   "cell_type": "code",
   "execution_count": 3,
   "id": "5aebdc07",
   "metadata": {},
   "outputs": [],
   "source": [
    "def sfsFeature(indep_x,dep_y):\n",
    "    SFSlist=[]\n",
    "    SFSlist1=[]\n",
    "    SFSlist2=[]\n",
    "     \n",
    "\n",
    "\n",
    "    log_model = LogisticRegression(solver='lbfgs')\n",
    "    #svc_model=SVC(kernel='linear',max_iter=100,random_state=0)\n",
    "    #DT=DecisionTreeClassifier(criterion='gini',max_features='sqrt',splitter='best',random_state=0)\n",
    "    #RF=RandomForestClassifier(n_estimators=10,criterion='entropy',random_state=0)\n",
    "    SFSmodellist=[log_model]\n",
    "    \n",
    "\n",
    "    for model in SFSmodellist:\n",
    "        log_sfs = sfs(model, k_features=6, forward=True, floating=False, verbose=0, scoring='accuracy', cv=5, n_jobs=1)\n",
    "        log_fit = log_sfs.fit(indep_x, dep_y)\n",
    "        log_sfs_feature = log_fit.transform(indep_x)\n",
    "        SFSlist.append(log_sfs_feature)\n",
    "\n",
    "        # Get the indices and names of selected features\n",
    "        op = log_sfs.k_feature_idx_\n",
    "        op1 = log_sfs.k_feature_names_\n",
    "        SFSlist1.append(op)\n",
    "        SFSlist2.append(op1)\n",
    "\n",
    "    return SFSlist, SFSlist1, SFSlist2"
   ]
  },
  {
   "cell_type": "code",
   "execution_count": 4,
   "id": "0ed654ea",
   "metadata": {},
   "outputs": [],
   "source": [
    "def split_scalar(indep_X,dep_Y):\n",
    "        X_train, X_test, y_train, y_test = train_test_split(indep_X, dep_Y, test_size = 0.25, random_state = 0)\n",
    "        \n",
    "        #Feature Scaling\n",
    "        #from sklearn.preprocessing import StandardScaler\n",
    "        sc = StandardScaler()\n",
    "        X_train = sc.fit_transform(X_train)\n",
    "        X_test = sc.transform(X_test)\n",
    "        \n",
    "        return X_train, X_test, y_train, y_test, sc\n",
    "    \n",
    "def cm_prediction(classifier,X_test):\n",
    "        y_pred = classifier.predict(X_test)\n",
    "        \n",
    "        # Making the Confusion Matrix\n",
    "        from sklearn.metrics import confusion_matrix\n",
    "        cm = confusion_matrix(y_test, y_pred)\n",
    "        \n",
    "        from sklearn.metrics import accuracy_score \n",
    "        from sklearn.metrics import classification_report \n",
    "        \n",
    "        Accuracy=accuracy_score(y_test, y_pred )\n",
    "        \n",
    "        report=classification_report(y_test, y_pred)\n",
    "        return  classifier,Accuracy,report,X_test,y_test,cm\n"
   ]
  },
  {
   "cell_type": "code",
   "execution_count": 5,
   "id": "5d4ea17a",
   "metadata": {},
   "outputs": [],
   "source": [
    "def svm_NL(X_train,y_train,X_test):\n",
    "                \n",
    "        from sklearn.svm import SVC\n",
    "        classifier = SVC(kernel = 'rbf', random_state = 0)\n",
    "        classifier.fit(X_train, y_train)\n",
    "        classifier,Accuracy,report,X_test,y_test,cm=cm_prediction(classifier,X_test)\n",
    "        return  classifier,Accuracy,report,X_test,y_test,cm\n",
    "\n",
    "\n",
    "\n",
    "def sfs_classification(accsvmnl):\n",
    "   \n",
    "    sfsdataframe = pd.DataFrame(index=['Logistic'],\n",
    "                                 columns=[ 'SVMnl'])\n",
    "    for number,idex in enumerate(sfsdataframe.index):\n",
    "        sfsdataframe['SVMnl'][idex]=accsvmnl[number]\n",
    "    return sfsdataframe"
   ]
  },
  {
   "cell_type": "code",
   "execution_count": 6,
   "id": "062c6c52",
   "metadata": {},
   "outputs": [],
   "source": [
    "dataset1=pd.read_csv(\"prep.csv\",index_col=None)\n",
    "df2=dataset1\n",
    "df2 = pd.get_dummies(df2, drop_first=True)\n",
    "\n",
    "indep_X=df2.drop('classification_yes', axis=1)\n",
    "dep_Y=df2['classification_yes']"
   ]
  },
  {
   "cell_type": "code",
   "execution_count": 7,
   "id": "ee97da27",
   "metadata": {},
   "outputs": [
    {
     "name": "stdout",
     "output_type": "stream",
     "text": [
      "Requirement already satisfied: mlxtend in c:\\sabeen\\anaconda3\\envs\\aiml\\lib\\site-packages (0.23.1)\n",
      "Requirement already satisfied: numpy>=1.16.2 in c:\\sabeen\\anaconda3\\envs\\aiml\\lib\\site-packages (from mlxtend) (1.17.4)\n",
      "Requirement already satisfied: matplotlib>=3.0.0 in c:\\sabeen\\anaconda3\\envs\\aiml\\lib\\site-packages (from mlxtend) (3.1.1)\n",
      "Requirement already satisfied: joblib>=0.13.2 in c:\\sabeen\\anaconda3\\envs\\aiml\\lib\\site-packages (from mlxtend) (1.3.2)\n",
      "Requirement already satisfied: pandas>=0.24.2 in c:\\sabeen\\anaconda3\\envs\\aiml\\lib\\site-packages (from mlxtend) (0.25.3)\n",
      "Requirement already satisfied: scipy>=1.2.1 in c:\\sabeen\\anaconda3\\envs\\aiml\\lib\\site-packages (from mlxtend) (1.7.3)\n",
      "Requirement already satisfied: scikit-learn>=1.0.2 in c:\\sabeen\\anaconda3\\envs\\aiml\\lib\\site-packages (from mlxtend) (1.0.2)\n",
      "Requirement already satisfied: python-dateutil>=2.1 in c:\\sabeen\\anaconda3\\envs\\aiml\\lib\\site-packages (from matplotlib>=3.0.0->mlxtend) (2.9.0.post0)\n",
      "Requirement already satisfied: kiwisolver>=1.0.1 in c:\\sabeen\\anaconda3\\envs\\aiml\\lib\\site-packages (from matplotlib>=3.0.0->mlxtend) (1.4.5)\n",
      "Requirement already satisfied: cycler>=0.10 in c:\\sabeen\\anaconda3\\envs\\aiml\\lib\\site-packages (from matplotlib>=3.0.0->mlxtend) (0.11.0)\n",
      "Requirement already satisfied: pyparsing!=2.0.4,!=2.1.2,!=2.1.6,>=2.0.1 in c:\\sabeen\\anaconda3\\envs\\aiml\\lib\\site-packages (from matplotlib>=3.0.0->mlxtend) (3.1.4)\n",
      "Requirement already satisfied: pytz>=2017.2 in c:\\sabeen\\anaconda3\\envs\\aiml\\lib\\site-packages (from pandas>=0.24.2->mlxtend) (2024.1)\n",
      "Requirement already satisfied: threadpoolctl>=2.0.0 in c:\\sabeen\\anaconda3\\envs\\aiml\\lib\\site-packages (from scikit-learn>=1.0.2->mlxtend) (3.1.0)\n",
      "Requirement already satisfied: typing-extensions in c:\\sabeen\\anaconda3\\envs\\aiml\\lib\\site-packages (from kiwisolver>=1.0.1->matplotlib>=3.0.0->mlxtend) (4.7.1)\n",
      "Requirement already satisfied: six>=1.5 in c:\\sabeen\\anaconda3\\envs\\aiml\\lib\\site-packages (from python-dateutil>=2.1->matplotlib>=3.0.0->mlxtend) (1.16.0)\n"
     ]
    }
   ],
   "source": [
    "!pip install --upgrade mlxtend"
   ]
  },
  {
   "cell_type": "code",
   "execution_count": 10,
   "id": "e554bfcc",
   "metadata": {},
   "outputs": [],
   "source": [
    "SFSlist=sfsFeature(indep_X,dep_Y)       \n",
    "\n",
    "\n",
    "accsvmnl=[]\n"
   ]
  },
  {
   "cell_type": "code",
   "execution_count": 11,
   "id": "508bc41a",
   "metadata": {},
   "outputs": [],
   "source": [
    "SFSlist, SFSlist1,SFSlist2=SFSlist"
   ]
  },
  {
   "cell_type": "code",
   "execution_count": 12,
   "id": "9f5973d3",
   "metadata": {},
   "outputs": [
    {
     "data": {
      "text/plain": [
       "[array([[ 3.        ,  0.        , 12.51815562, 38.86890244,  0.        ,\n",
       "          0.        ],\n",
       "        [ 2.        ,  0.        , 10.7       , 34.        ,  0.        ,\n",
       "          1.        ],\n",
       "        [ 1.        ,  0.        , 12.        , 34.        ,  0.        ,\n",
       "          1.        ],\n",
       "        ...,\n",
       "        [ 3.        ,  0.        ,  9.1       , 26.        ,  0.        ,\n",
       "          1.        ],\n",
       "        [ 0.        ,  0.        ,  8.5       , 38.86890244,  0.        ,\n",
       "          1.        ],\n",
       "        [ 0.        ,  0.        , 16.3       , 53.        ,  0.        ,\n",
       "          1.        ]])]"
      ]
     },
     "execution_count": 12,
     "metadata": {},
     "output_type": "execute_result"
    }
   ],
   "source": [
    "SFSlist"
   ]
  },
  {
   "cell_type": "code",
   "execution_count": 13,
   "id": "abf3a1f7",
   "metadata": {},
   "outputs": [
    {
     "data": {
      "text/plain": [
       "[(2, 3, 9, 10, 15, 18)]"
      ]
     },
     "execution_count": 13,
     "metadata": {},
     "output_type": "execute_result"
    }
   ],
   "source": [
    " SFSlist1"
   ]
  },
  {
   "cell_type": "code",
   "execution_count": 14,
   "id": "c2ef5f65",
   "metadata": {},
   "outputs": [
    {
     "data": {
      "text/plain": [
       "[('al', 'su', 'hrmo', 'pcv', 'sg_d', 'pc_normal')]"
      ]
     },
     "execution_count": 14,
     "metadata": {},
     "output_type": "execute_result"
    }
   ],
   "source": [
    "SFSlist2"
   ]
  },
  {
   "cell_type": "code",
   "execution_count": 15,
   "id": "dee2532c",
   "metadata": {},
   "outputs": [],
   "source": [
    "for i in SFSlist:   \n",
    "    \n",
    "\n",
    "    X_train, X_test, y_train, y_test,sc=split_scalar(i,dep_Y)   \n",
    "    \n",
    "    \n",
    "    classifier,Accuracy,report,X_test,y_test,cm=svm_NL(X_train,y_train,X_test)  \n",
    "    accsvmnl.append(Accuracy)\n",
    "    \n",
    "    \n",
    "result=sfs_classification(accsvmnl)"
   ]
  },
  {
   "cell_type": "code",
   "execution_count": 16,
   "id": "8dc81f2a",
   "metadata": {},
   "outputs": [
    {
     "data": {
      "text/html": [
       "<div>\n",
       "<style scoped>\n",
       "    .dataframe tbody tr th:only-of-type {\n",
       "        vertical-align: middle;\n",
       "    }\n",
       "\n",
       "    .dataframe tbody tr th {\n",
       "        vertical-align: top;\n",
       "    }\n",
       "\n",
       "    .dataframe thead th {\n",
       "        text-align: right;\n",
       "    }\n",
       "</style>\n",
       "<table border=\"1\" class=\"dataframe\">\n",
       "  <thead>\n",
       "    <tr style=\"text-align: right;\">\n",
       "      <th></th>\n",
       "      <th>SVMnl</th>\n",
       "    </tr>\n",
       "  </thead>\n",
       "  <tbody>\n",
       "    <tr>\n",
       "      <th>Logistic</th>\n",
       "      <td>0.99</td>\n",
       "    </tr>\n",
       "  </tbody>\n",
       "</table>\n",
       "</div>"
      ],
      "text/plain": [
       "         SVMnl\n",
       "Logistic  0.99"
      ]
     },
     "execution_count": 16,
     "metadata": {},
     "output_type": "execute_result"
    }
   ],
   "source": [
    "result\n",
    "#6"
   ]
  },
  {
   "cell_type": "code",
   "execution_count": 17,
   "id": "8ad711bb",
   "metadata": {},
   "outputs": [],
   "source": [
    "import pickle as pkl\n",
    "filename=\"finalized_model_Logistic.sav\""
   ]
  },
  {
   "cell_type": "code",
   "execution_count": 18,
   "id": "1b58d2e6",
   "metadata": {},
   "outputs": [],
   "source": [
    "pickle.dump(classifier,open(filename,'wb'))"
   ]
  },
  {
   "cell_type": "code",
   "execution_count": 19,
   "id": "c2303d71",
   "metadata": {},
   "outputs": [],
   "source": [
    "filenamex=\"sc.pkl\""
   ]
  },
  {
   "cell_type": "code",
   "execution_count": 20,
   "id": "e19f5fb1",
   "metadata": {},
   "outputs": [],
   "source": [
    "pickle.dump(sc,open(filenamex,'wb'))"
   ]
  },
  {
   "cell_type": "code",
   "execution_count": 21,
   "id": "bbf131c4",
   "metadata": {},
   "outputs": [],
   "source": [
    "sc=pickle.load(open(\"sc.pkl\",'rb'))"
   ]
  },
  {
   "cell_type": "code",
   "execution_count": 22,
   "id": "81317aa3",
   "metadata": {},
   "outputs": [
    {
     "data": {
      "text/plain": [
       "array([[-0.65587132, -0.36317599,  1.55577448,  1.34716496, -0.46416285,\n",
       "         0.49581583]])"
      ]
     },
     "execution_count": 22,
     "metadata": {},
     "output_type": "execute_result"
    }
   ],
   "source": [
    "preinput = sc.transform([[0,0,16.7 ,50,0,1]])\n",
    "preinput"
   ]
  },
  {
   "cell_type": "code",
   "execution_count": 23,
   "id": "afaf2461",
   "metadata": {},
   "outputs": [],
   "source": [
    "loaded_model=pickle.load(open(\"finalized_model_Logistic.sav\",'rb')) \n",
    "result = loaded_model.predict(preinput)"
   ]
  },
  {
   "cell_type": "code",
   "execution_count": 24,
   "id": "68aad0f7",
   "metadata": {},
   "outputs": [
    {
     "data": {
      "text/plain": [
       "array([0], dtype=uint8)"
      ]
     },
     "execution_count": 24,
     "metadata": {},
     "output_type": "execute_result"
    }
   ],
   "source": [
    "result"
   ]
  },
  {
   "cell_type": "code",
   "execution_count": null,
   "id": "6570c720",
   "metadata": {},
   "outputs": [],
   "source": []
  },
  {
   "cell_type": "code",
   "execution_count": null,
   "id": "9afbf571",
   "metadata": {},
   "outputs": [],
   "source": []
  },
  {
   "cell_type": "code",
   "execution_count": null,
   "id": "c2b9b3a1",
   "metadata": {},
   "outputs": [],
   "source": []
  }
 ],
 "metadata": {
  "kernelspec": {
   "display_name": "Python 3 (ipykernel)",
   "language": "python",
   "name": "python3"
  },
  "language_info": {
   "codemirror_mode": {
    "name": "ipython",
    "version": 3
   },
   "file_extension": ".py",
   "mimetype": "text/x-python",
   "name": "python",
   "nbconvert_exporter": "python",
   "pygments_lexer": "ipython3",
   "version": "3.7.1"
  }
 },
 "nbformat": 4,
 "nbformat_minor": 5
}
