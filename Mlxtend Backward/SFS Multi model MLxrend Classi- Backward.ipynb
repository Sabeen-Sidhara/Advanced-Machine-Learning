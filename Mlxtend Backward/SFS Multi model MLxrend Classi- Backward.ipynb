{
 "cells": [
  {
   "cell_type": "code",
   "execution_count": 1,
   "id": "e3f2a274",
   "metadata": {},
   "outputs": [],
   "source": [
    "import pandas as pd\n",
    "from sklearn.model_selection import train_test_split \n",
    "import time\n",
    "import numpy as np\n",
    "from sklearn.preprocessing import StandardScaler\n",
    "from sklearn.feature_selection import SelectKBest\n",
    "from sklearn.feature_selection import chi2\n",
    "from sklearn.feature_selection import RFE\n",
    "from sklearn.linear_model import LogisticRegression\n",
    "import pickle\n",
    "import matplotlib.pyplot as plt\n",
    "from sklearn.neighbors import KNeighborsClassifier   \n",
    "from sklearn.svm import SVC\n",
    "from sklearn.ensemble import RandomForestClassifier\n",
    "from sklearn.naive_bayes import GaussianNB\n",
    "from sklearn.tree import DecisionTreeClassifier\n",
    "from mlxtend.feature_selection import SequentialFeatureSelector as sfs\n"
   ]
  },
  {
   "cell_type": "code",
   "execution_count": 2,
   "id": "15376646",
   "metadata": {},
   "outputs": [],
   "source": [
    "import warnings\n",
    "warnings.filterwarnings('ignore')"
   ]
  },
  {
   "cell_type": "code",
   "execution_count": 10,
   "id": "0ed654ea",
   "metadata": {},
   "outputs": [],
   "source": [
    "def sfsFeature(indep_x,dep_y):\n",
    "    SFSlist=[]\n",
    "    SFSlist1=[]\n",
    "    SFSlist2=[]\n",
    "     \n",
    "\n",
    "\n",
    "    log_model = LogisticRegression(solver='lbfgs')\n",
    "    svc_model=SVC(kernel='linear',max_iter=100,random_state=0)\n",
    "    DT=DecisionTreeClassifier(criterion='gini',max_features='sqrt',splitter='best',random_state=0)\n",
    "    RF=RandomForestClassifier(n_estimators=10,criterion='entropy',random_state=0)\n",
    "    SFSmodellist=[log_model,svc_model,DT,RF]\n",
    "    \n",
    "\n",
    "    for model in SFSmodellist:\n",
    "        log_sfs = sfs(model, k_features=6,forward=False, floating=False, verbose=0, scoring='accuracy', cv=5, n_jobs=1)\n",
    "        log_fit = log_sfs.fit(indep_x, dep_y)\n",
    "        log_sfs_feature = log_fit.transform(indep_x)\n",
    "        SFSlist.append(log_sfs_feature)\n",
    "\n",
    "        # Get the indices and names of selected features\n",
    "        op = log_sfs.k_feature_idx_\n",
    "        op1 = log_sfs.k_feature_names_\n",
    "        SFSlist1.append(op)\n",
    "        SFSlist2.append(op1)\n",
    "\n",
    "    return SFSlist, SFSlist1, SFSlist2\n",
    "def split_scalar(indep_X,dep_Y):\n",
    "        X_train, X_test, y_train, y_test = train_test_split(indep_X, dep_Y, test_size = 0.25, random_state = 0)\n",
    "        \n",
    "        #Feature Scaling\n",
    "        #from sklearn.preprocessing import StandardScaler\n",
    "        sc = StandardScaler()\n",
    "        X_train = sc.fit_transform(X_train)\n",
    "        X_test = sc.transform(X_test)\n",
    "        \n",
    "        return X_train, X_test, y_train, y_test,sc\n",
    "        \n",
    "    \n",
    "def cm_prediction(classifier,X_test):\n",
    "        y_pred = classifier.predict(X_test)\n",
    "        \n",
    "        # Making the Confusion Matrix\n",
    "        from sklearn.metrics import confusion_matrix\n",
    "        cm = confusion_matrix(y_test, y_pred)\n",
    "        \n",
    "        from sklearn.metrics import accuracy_score \n",
    "        from sklearn.metrics import classification_report \n",
    "        \n",
    "        Accuracy=accuracy_score(y_test, y_pred )\n",
    "        \n",
    "        report=classification_report(y_test, y_pred)\n",
    "        return  classifier,Accuracy,report,X_test,y_test,cm\n"
   ]
  },
  {
   "cell_type": "code",
   "execution_count": 4,
   "id": "5d4ea17a",
   "metadata": {},
   "outputs": [],
   "source": [
    "def logistic(X_train,y_train,X_test):\n",
    "    \n",
    "        from sklearn.linear_model import LogisticRegression\n",
    "        classifier = LogisticRegression(random_state = 0)\n",
    "        classifier.fit(X_train, y_train)\n",
    "        classifier,Accuracy,report,X_test,y_test,cm=cm_prediction(classifier,X_test)\n",
    "        return  classifier,Accuracy,report,X_test,y_test,cm      \n",
    "    \n",
    "def svm_linear(X_train,y_train,X_test):\n",
    "                \n",
    "        from sklearn.svm import SVC\n",
    "        classifier = SVC(kernel = 'linear', random_state = 0)\n",
    "        classifier.fit(X_train, y_train)\n",
    "        classifier,Accuracy,report,X_test,y_test,cm=cm_prediction(classifier,X_test)\n",
    "        return  classifier,Accuracy,report,X_test,y_test,cm\n",
    "    \n",
    "def svm_NL(X_train,y_train,X_test):\n",
    "                \n",
    "        from sklearn.svm import SVC\n",
    "        classifier = SVC(kernel = 'rbf', random_state = 0)\n",
    "        classifier.fit(X_train, y_train)\n",
    "        classifier,Accuracy,report,X_test,y_test,cm=cm_prediction(classifier,X_test)\n",
    "        return  classifier,Accuracy,report,X_test,y_test,cm\n",
    "\n",
    "def Navie(X_train,y_train,X_test):   \n",
    "    \n",
    "        from sklearn.naive_bayes import GaussianNB\n",
    "        classifier = GaussianNB()\n",
    "        classifier.fit(X_train, y_train)\n",
    "        classifier,Accuracy,report,X_test,y_test,cm=cm_prediction(classifier,X_test)\n",
    "        return  classifier,Accuracy,report,X_test,y_test,cm         \n",
    "    \n",
    "    \n",
    "def knn(X_train,y_train,X_test):\n",
    "           \n",
    "        from sklearn.neighbors import KNeighborsClassifier\n",
    "        classifier = KNeighborsClassifier(n_neighbors = 5, metric = 'minkowski', p = 2)\n",
    "        classifier.fit(X_train, y_train)\n",
    "        classifier,Accuracy,report,X_test,y_test,cm=cm_prediction(classifier,X_test)\n",
    "        return  classifier,Accuracy,report,X_test,y_test,cm\n",
    "    \n",
    "def Decision(X_train,y_train,X_test):\n",
    "        \n",
    "        from sklearn.tree import DecisionTreeClassifier\n",
    "        classifier = DecisionTreeClassifier(criterion = 'entropy', random_state = 0)\n",
    "        classifier.fit(X_train, y_train)\n",
    "        classifier,Accuracy,report,X_test,y_test,cm=cm_prediction(classifier,X_test)\n",
    "        return  classifier,Accuracy,report,X_test,y_test,cm      \n",
    "\n",
    "\n",
    "def random(X_train,y_train,X_test):\n",
    "        \n",
    "        from sklearn.ensemble import RandomForestClassifier\n",
    "        classifier = RandomForestClassifier(n_estimators = 10, criterion = 'entropy', random_state = 0)\n",
    "        classifier.fit(X_train, y_train)\n",
    "        classifier,Accuracy,report,X_test,y_test,cm=cm_prediction(classifier,X_test)\n",
    "        return  classifier,Accuracy,report,X_test,y_test,cm\n",
    "    \n",
    "\n",
    "def sfs_classification(acclog, accsvml, accsvmnl, accknn, accnav, accdes, accrf):\n",
    "   \n",
    "    sfsdataframe = pd.DataFrame(index=['Logistic','SVC','DT','RF'],\n",
    "                                 columns=['Logistic', 'SVMl', 'SVMnl', 'KNN', 'Navie', 'Decision', 'Random'])\n",
    "    for number,idex in enumerate(sfsdataframe.index):\n",
    "        \n",
    "        sfsdataframe['Logistic'][idex]=acclog[number]       \n",
    "        sfsdataframe['SVMl'][idex]=accsvml[number]\n",
    "        sfsdataframe['SVMnl'][idex]=accsvmnl[number]\n",
    "        sfsdataframe['KNN'][idex]=accknn[number]\n",
    "        sfsdataframe['Navie'][idex]=accnav[number]\n",
    "        sfsdataframe['Decision'][idex]=accdes[number]\n",
    "        sfsdataframe['Random'][idex]=accrf[number]\n",
    "    \n",
    "\n",
    "    return sfsdataframe"
   ]
  },
  {
   "cell_type": "code",
   "execution_count": 8,
   "id": "85272fd4",
   "metadata": {},
   "outputs": [],
   "source": [
    "dataset1=pd.read_csv(\"prep.csv\",index_col=None)\n",
    "df2=dataset1\n",
    "df2 = pd.get_dummies(df2, drop_first=True)\n",
    "\n",
    "indep_X=df2.drop('classification_yes', axis=1)\n",
    "dep_Y=df2['classification_yes']"
   ]
  },
  {
   "cell_type": "code",
   "execution_count": 11,
   "id": "e554bfcc",
   "metadata": {
    "scrolled": true
   },
   "outputs": [],
   "source": [
    "SFSlist=sfsFeature(indep_X,dep_Y)       \n",
    "\n",
    "acclog=[]\n",
    "accsvml=[]\n",
    "accsvmnl=[]\n",
    "accknn=[]\n",
    "accnav=[]\n",
    "accdes=[]\n",
    "accrf=[]"
   ]
  },
  {
   "cell_type": "code",
   "execution_count": 12,
   "id": "135c58f9",
   "metadata": {},
   "outputs": [],
   "source": [
    "SFSlist, SFSlist1,SFSlist2=SFSlist"
   ]
  },
  {
   "cell_type": "code",
   "execution_count": 13,
   "id": "e84aa106",
   "metadata": {},
   "outputs": [
    {
     "data": {
      "text/plain": [
       "[array([[ 76.45994832,   3.        , 148.11267606,   3.07735602,\n",
       "          12.51815562,   0.        ],\n",
       "        [ 76.45994832,   2.        , 148.11267606,   0.7       ,\n",
       "          10.7       ,   0.        ],\n",
       "        [ 76.45994832,   1.        ,  99.        ,   0.6       ,\n",
       "          12.        ,   0.        ],\n",
       "        ...,\n",
       "        [ 70.        ,   3.        , 110.        ,   6.        ,\n",
       "           9.1       ,   1.        ],\n",
       "        [ 90.        ,   0.        , 207.        ,   6.8       ,\n",
       "           8.5       ,   1.        ],\n",
       "        [ 80.        ,   0.        , 100.        ,   1.        ,\n",
       "          16.3       ,   0.        ]]),\n",
       " array([[ 3.        ,  3.07735602, 12.51815562,  1.        ,  0.        ,\n",
       "          0.        ],\n",
       "        [ 2.        ,  0.7       , 10.7       ,  1.        ,  0.        ,\n",
       "          0.        ],\n",
       "        [ 1.        ,  0.6       , 12.        ,  0.        ,  0.        ,\n",
       "          0.        ],\n",
       "        ...,\n",
       "        [ 3.        ,  6.        ,  9.1       ,  1.        ,  0.        ,\n",
       "          1.        ],\n",
       "        [ 0.        ,  6.8       ,  8.5       ,  0.        ,  0.        ,\n",
       "          1.        ],\n",
       "        [ 0.        ,  1.        , 16.3       ,  0.        ,  0.        ,\n",
       "          0.        ]]),\n",
       " array([[ 3.        , 38.86890244,  1.        ,  0.        ,  0.        ,\n",
       "          0.        ],\n",
       "        [ 2.        , 34.        ,  1.        ,  0.        ,  0.        ,\n",
       "          0.        ],\n",
       "        [ 1.        , 34.        ,  0.        ,  0.        ,  0.        ,\n",
       "          0.        ],\n",
       "        ...,\n",
       "        [ 3.        , 26.        ,  1.        ,  0.        ,  1.        ,\n",
       "          0.        ],\n",
       "        [ 0.        , 38.86890244,  0.        ,  0.        ,  1.        ,\n",
       "          0.        ],\n",
       "        [ 0.        , 53.        ,  0.        ,  0.        ,  0.        ,\n",
       "          0.        ]]),\n",
       " array([[ 3.07735602, 12.51815562,  0.        ,  0.        ,  0.        ,\n",
       "          1.        ],\n",
       "        [ 0.7       , 10.7       ,  0.        ,  0.        ,  0.        ,\n",
       "          1.        ],\n",
       "        [ 0.6       , 12.        ,  0.        ,  0.        ,  0.        ,\n",
       "          1.        ],\n",
       "        ...,\n",
       "        [ 6.        ,  9.1       ,  0.        ,  0.        ,  0.        ,\n",
       "          1.        ],\n",
       "        [ 6.8       ,  8.5       ,  0.        ,  0.        ,  0.        ,\n",
       "          1.        ],\n",
       "        [ 1.        , 16.3       ,  0.        ,  0.        ,  0.        ,\n",
       "          1.        ]])]"
      ]
     },
     "execution_count": 13,
     "metadata": {},
     "output_type": "execute_result"
    }
   ],
   "source": [
    "SFSlist"
   ]
  },
  {
   "cell_type": "code",
   "execution_count": 14,
   "id": "69d6b69e",
   "metadata": {},
   "outputs": [
    {
     "data": {
      "text/plain": [
       "[(1, 2, 4, 6, 9, 21),\n",
       " (2, 6, 9, 14, 15, 22),\n",
       " (2, 10, 14, 15, 22, 23),\n",
       " (6, 9, 13, 15, 16, 17)]"
      ]
     },
     "execution_count": 14,
     "metadata": {},
     "output_type": "execute_result"
    }
   ],
   "source": [
    " SFSlist1"
   ]
  },
  {
   "cell_type": "code",
   "execution_count": 15,
   "id": "b1a28110",
   "metadata": {},
   "outputs": [
    {
     "data": {
      "text/plain": [
       "[('bp', 'al', 'bgr', 'sc', 'hrmo', 'htn_yes'),\n",
       " ('al', 'sc', 'hrmo', 'sg_c', 'sg_d', 'dm_yes'),\n",
       " ('al', 'pcv', 'sg_c', 'sg_d', 'dm_yes', 'cad_yes'),\n",
       " ('sc', 'hrmo', 'sg_b', 'sg_d', 'sg_e', 'rbc_normal')]"
      ]
     },
     "execution_count": 15,
     "metadata": {},
     "output_type": "execute_result"
    }
   ],
   "source": [
    "SFSlist2"
   ]
  },
  {
   "cell_type": "code",
   "execution_count": 16,
   "id": "dee2532c",
   "metadata": {},
   "outputs": [],
   "source": [
    "for i in SFSlist:   \n",
    "    \n",
    "    X_train, X_test, y_train, y_test,sc=split_scalar(i,dep_Y)   \n",
    "    \n",
    "        \n",
    "    classifier,Accuracy,report,X_test,y_test,cm=logistic(X_train,y_train,X_test)\n",
    "    acclog.append(Accuracy)\n",
    "    \n",
    "    classifier,Accuracy,report,X_test,y_test,cm=svm_linear(X_train,y_train,X_test)  \n",
    "    accsvml.append(Accuracy)\n",
    "    \n",
    "    classifier,Accuracy,report,X_test,y_test,cm=svm_NL(X_train,y_train,X_test)  \n",
    "    accsvmnl.append(Accuracy)\n",
    "    \n",
    "    classifier,Accuracy,report,X_test,y_test,cm=knn(X_train,y_train,X_test)  \n",
    "    accknn.append(Accuracy)\n",
    "    \n",
    "    classifier,Accuracy,report,X_test,y_test,cm=Navie(X_train,y_train,X_test)  \n",
    "    accnav.append(Accuracy)\n",
    "    \n",
    "    classifier,Accuracy,report,X_test,y_test,cm=Decision(X_train,y_train,X_test)  \n",
    "    accdes.append(Accuracy)\n",
    "    \n",
    "    classifier,Accuracy,report,X_test,y_test,cm=random(X_train,y_train,X_test)  \n",
    "    accrf.append(Accuracy)\n",
    "result=sfs_classification(acclog,accsvml,accsvmnl,accknn,accnav,accdes,accrf)\n"
   ]
  },
  {
   "cell_type": "code",
   "execution_count": 17,
   "id": "8dc81f2a",
   "metadata": {},
   "outputs": [
    {
     "data": {
      "text/html": [
       "<div>\n",
       "<style scoped>\n",
       "    .dataframe tbody tr th:only-of-type {\n",
       "        vertical-align: middle;\n",
       "    }\n",
       "\n",
       "    .dataframe tbody tr th {\n",
       "        vertical-align: top;\n",
       "    }\n",
       "\n",
       "    .dataframe thead th {\n",
       "        text-align: right;\n",
       "    }\n",
       "</style>\n",
       "<table border=\"1\" class=\"dataframe\">\n",
       "  <thead>\n",
       "    <tr style=\"text-align: right;\">\n",
       "      <th></th>\n",
       "      <th>Logistic</th>\n",
       "      <th>SVMl</th>\n",
       "      <th>SVMnl</th>\n",
       "      <th>KNN</th>\n",
       "      <th>Navie</th>\n",
       "      <th>Decision</th>\n",
       "      <th>Random</th>\n",
       "    </tr>\n",
       "  </thead>\n",
       "  <tbody>\n",
       "    <tr>\n",
       "      <th>Logistic</th>\n",
       "      <td>0.97</td>\n",
       "      <td>0.96</td>\n",
       "      <td>0.97</td>\n",
       "      <td>0.97</td>\n",
       "      <td>0.91</td>\n",
       "      <td>0.98</td>\n",
       "      <td>0.98</td>\n",
       "    </tr>\n",
       "    <tr>\n",
       "      <th>SVC</th>\n",
       "      <td>0.98</td>\n",
       "      <td>0.98</td>\n",
       "      <td>0.98</td>\n",
       "      <td>0.98</td>\n",
       "      <td>0.97</td>\n",
       "      <td>0.96</td>\n",
       "      <td>1</td>\n",
       "    </tr>\n",
       "    <tr>\n",
       "      <th>DT</th>\n",
       "      <td>0.96</td>\n",
       "      <td>0.96</td>\n",
       "      <td>0.96</td>\n",
       "      <td>0.99</td>\n",
       "      <td>0.96</td>\n",
       "      <td>0.99</td>\n",
       "      <td>0.99</td>\n",
       "    </tr>\n",
       "    <tr>\n",
       "      <th>RF</th>\n",
       "      <td>0.96</td>\n",
       "      <td>0.97</td>\n",
       "      <td>0.96</td>\n",
       "      <td>0.98</td>\n",
       "      <td>0.73</td>\n",
       "      <td>0.94</td>\n",
       "      <td>0.97</td>\n",
       "    </tr>\n",
       "  </tbody>\n",
       "</table>\n",
       "</div>"
      ],
      "text/plain": [
       "         Logistic  SVMl SVMnl   KNN Navie Decision Random\n",
       "Logistic     0.97  0.96  0.97  0.97  0.91     0.98   0.98\n",
       "SVC          0.98  0.98  0.98  0.98  0.97     0.96      1\n",
       "DT           0.96  0.96  0.96  0.99  0.96     0.99   0.99\n",
       "RF           0.96  0.97  0.96  0.98  0.73     0.94   0.97"
      ]
     },
     "execution_count": 17,
     "metadata": {},
     "output_type": "execute_result"
    }
   ],
   "source": [
    "result\n",
    "#6"
   ]
  },
  {
   "cell_type": "code",
   "execution_count": null,
   "id": "8ad711bb",
   "metadata": {},
   "outputs": [],
   "source": []
  },
  {
   "cell_type": "code",
   "execution_count": null,
   "id": "1b58d2e6",
   "metadata": {},
   "outputs": [],
   "source": []
  },
  {
   "cell_type": "code",
   "execution_count": null,
   "id": "c2303d71",
   "metadata": {},
   "outputs": [],
   "source": []
  },
  {
   "cell_type": "code",
   "execution_count": null,
   "id": "e19f5fb1",
   "metadata": {},
   "outputs": [],
   "source": []
  },
  {
   "cell_type": "code",
   "execution_count": null,
   "id": "bbf131c4",
   "metadata": {},
   "outputs": [],
   "source": []
  },
  {
   "cell_type": "code",
   "execution_count": null,
   "id": "81317aa3",
   "metadata": {},
   "outputs": [],
   "source": []
  },
  {
   "cell_type": "code",
   "execution_count": null,
   "id": "afaf2461",
   "metadata": {},
   "outputs": [],
   "source": []
  },
  {
   "cell_type": "code",
   "execution_count": null,
   "id": "68aad0f7",
   "metadata": {},
   "outputs": [],
   "source": []
  },
  {
   "cell_type": "code",
   "execution_count": null,
   "id": "6570c720",
   "metadata": {},
   "outputs": [],
   "source": []
  },
  {
   "cell_type": "code",
   "execution_count": null,
   "id": "9afbf571",
   "metadata": {},
   "outputs": [],
   "source": []
  },
  {
   "cell_type": "code",
   "execution_count": null,
   "id": "c2b9b3a1",
   "metadata": {},
   "outputs": [],
   "source": []
  },
  {
   "cell_type": "code",
   "execution_count": null,
   "id": "64ef7beb",
   "metadata": {},
   "outputs": [],
   "source": []
  }
 ],
 "metadata": {
  "kernelspec": {
   "display_name": "Python 3 (ipykernel)",
   "language": "python",
   "name": "python3"
  },
  "language_info": {
   "codemirror_mode": {
    "name": "ipython",
    "version": 3
   },
   "file_extension": ".py",
   "mimetype": "text/x-python",
   "name": "python",
   "nbconvert_exporter": "python",
   "pygments_lexer": "ipython3",
   "version": "3.7.1"
  }
 },
 "nbformat": 4,
 "nbformat_minor": 5
}
