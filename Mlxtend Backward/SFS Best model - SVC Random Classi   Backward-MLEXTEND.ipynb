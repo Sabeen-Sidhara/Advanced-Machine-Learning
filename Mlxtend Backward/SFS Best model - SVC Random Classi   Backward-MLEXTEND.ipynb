{
 "cells": [
  {
   "cell_type": "code",
   "execution_count": 1,
   "id": "e3f2a274",
   "metadata": {},
   "outputs": [],
   "source": [
    "import pandas as pd\n",
    "from sklearn.model_selection import train_test_split \n",
    "import time\n",
    "import numpy as np\n",
    "from sklearn.preprocessing import StandardScaler\n",
    "from sklearn.feature_selection import SelectKBest\n",
    "from sklearn.feature_selection import chi2\n",
    "from sklearn.feature_selection import RFE\n",
    "from sklearn.linear_model import LogisticRegression\n",
    "import pickle\n",
    "import matplotlib.pyplot as plt\n",
    "from sklearn.neighbors import KNeighborsClassifier   \n",
    "from sklearn.svm import SVC\n",
    "from sklearn.ensemble import RandomForestClassifier\n",
    "from sklearn.naive_bayes import GaussianNB\n",
    "from sklearn.tree import DecisionTreeClassifier\n",
    "from mlxtend.feature_selection import SequentialFeatureSelector as sfs\n"
   ]
  },
  {
   "cell_type": "code",
   "execution_count": 2,
   "id": "b1324d91",
   "metadata": {},
   "outputs": [],
   "source": [
    "import warnings\n",
    "warnings.filterwarnings('ignore')"
   ]
  },
  {
   "cell_type": "code",
   "execution_count": 3,
   "id": "5aebdc07",
   "metadata": {},
   "outputs": [],
   "source": [
    "def sfsFeature(indep_x,dep_y):\n",
    "    SFSlist=[]\n",
    "    SFSlist1=[]\n",
    "    SFSlist2=[]\n",
    "     \n",
    "\n",
    "\n",
    "    #log_model = LogisticRegression(solver='lbfgs')\n",
    "    svc_model=SVC(kernel='linear',max_iter=100,random_state=0)\n",
    "    #DT=DecisionTreeClassifier(criterion='gini',max_features='sqrt',splitter='best',random_state=0)\n",
    "    #RF=RandomForestClassifier(n_estimators=10,criterion='entropy',random_state=0)\n",
    "    SFSmodellist=[svc_model]\n",
    "    \n",
    "\n",
    "    for model in SFSmodellist:\n",
    "        log_sfs = sfs(model, k_features=6, forward=False, floating=False, verbose=0, scoring='accuracy', cv=5, n_jobs=1)\n",
    "        log_fit = log_sfs.fit(indep_x, dep_y)\n",
    "        log_sfs_feature = log_fit.transform(indep_x)\n",
    "        SFSlist.append(log_sfs_feature)\n",
    "\n",
    "        # Get the indices and names of selected features\n",
    "        op = log_sfs.k_feature_idx_\n",
    "        op1 = log_sfs.k_feature_names_\n",
    "        SFSlist1.append(op)\n",
    "        SFSlist2.append(op1)\n",
    "\n",
    "    return SFSlist, SFSlist1, SFSlist2"
   ]
  },
  {
   "cell_type": "code",
   "execution_count": 4,
   "id": "0ed654ea",
   "metadata": {},
   "outputs": [],
   "source": [
    "def split_scalar(indep_X,dep_Y):\n",
    "        X_train, X_test, y_train, y_test = train_test_split(indep_X, dep_Y, test_size = 0.25, random_state = 0)\n",
    "        sc = StandardScaler()\n",
    "        X_train = sc.fit_transform(X_train)\n",
    "        X_test = sc.transform(X_test)\n",
    "        \n",
    "        return X_train, X_test, y_train, y_test, sc\n",
    "    \n",
    "def cm_prediction(classifier,X_test):\n",
    "        y_pred = classifier.predict(X_test)\n",
    "        \n",
    "        # Making the Confusion Matrix\n",
    "        from sklearn.metrics import confusion_matrix\n",
    "        cm = confusion_matrix(y_test, y_pred)\n",
    "        \n",
    "        from sklearn.metrics import accuracy_score \n",
    "        from sklearn.metrics import classification_report \n",
    "        \n",
    "        Accuracy=accuracy_score(y_test, y_pred )\n",
    "        \n",
    "        report=classification_report(y_test, y_pred)\n",
    "        return  classifier,Accuracy,report,X_test,y_test,cm\n"
   ]
  },
  {
   "cell_type": "code",
   "execution_count": 5,
   "id": "5d4ea17a",
   "metadata": {},
   "outputs": [],
   "source": [
    "def random(X_train,y_train,X_test):\n",
    "        \n",
    "        from sklearn.ensemble import RandomForestClassifier\n",
    "        classifier = RandomForestClassifier(n_estimators = 10, criterion = 'entropy', random_state = 0)\n",
    "        classifier.fit(X_train, y_train)\n",
    "        classifier,Accuracy,report,X_test,y_test,cm=cm_prediction(classifier,X_test)\n",
    "        return  classifier,Accuracy,report,X_test,y_test,cm\n",
    "\n",
    "\n",
    "\n",
    "def sfs_classification(accrf):\n",
    "   \n",
    "    sfsdataframe = pd.DataFrame(index=['SVC'],\n",
    "                                 columns=[ 'Random'])\n",
    "    for number,idex in enumerate(sfsdataframe.index):\n",
    "        sfsdataframe['Random'][idex]=accrf[number]\n",
    "    return sfsdataframe"
   ]
  },
  {
   "cell_type": "code",
   "execution_count": 6,
   "id": "062c6c52",
   "metadata": {},
   "outputs": [],
   "source": [
    "dataset1=pd.read_csv(\"prep.csv\",index_col=None)\n",
    "df2=dataset1\n",
    "df2 = pd.get_dummies(df2, drop_first=True)\n",
    "\n",
    "indep_X=df2.drop('classification_yes', axis=1)\n",
    "dep_Y=df2['classification_yes']"
   ]
  },
  {
   "cell_type": "code",
   "execution_count": 7,
   "id": "e554bfcc",
   "metadata": {},
   "outputs": [],
   "source": [
    "SFSlist=sfsFeature(indep_X,dep_Y)       \n",
    "\n",
    "\n",
    "accrf=[]\n"
   ]
  },
  {
   "cell_type": "code",
   "execution_count": 8,
   "id": "508bc41a",
   "metadata": {},
   "outputs": [],
   "source": [
    "SFSlist, SFSlist1,SFSlist2=SFSlist"
   ]
  },
  {
   "cell_type": "code",
   "execution_count": 9,
   "id": "9f5973d3",
   "metadata": {},
   "outputs": [
    {
     "data": {
      "text/plain": [
       "[array([[ 3.        ,  3.07735602, 12.51815562,  1.        ,  0.        ,\n",
       "          0.        ],\n",
       "        [ 2.        ,  0.7       , 10.7       ,  1.        ,  0.        ,\n",
       "          0.        ],\n",
       "        [ 1.        ,  0.6       , 12.        ,  0.        ,  0.        ,\n",
       "          0.        ],\n",
       "        ...,\n",
       "        [ 3.        ,  6.        ,  9.1       ,  1.        ,  0.        ,\n",
       "          1.        ],\n",
       "        [ 0.        ,  6.8       ,  8.5       ,  0.        ,  0.        ,\n",
       "          1.        ],\n",
       "        [ 0.        ,  1.        , 16.3       ,  0.        ,  0.        ,\n",
       "          0.        ]])]"
      ]
     },
     "execution_count": 9,
     "metadata": {},
     "output_type": "execute_result"
    }
   ],
   "source": [
    "SFSlist"
   ]
  },
  {
   "cell_type": "code",
   "execution_count": 10,
   "id": "abf3a1f7",
   "metadata": {},
   "outputs": [
    {
     "data": {
      "text/plain": [
       "[(2, 6, 9, 14, 15, 22)]"
      ]
     },
     "execution_count": 10,
     "metadata": {},
     "output_type": "execute_result"
    }
   ],
   "source": [
    " SFSlist1"
   ]
  },
  {
   "cell_type": "code",
   "execution_count": 11,
   "id": "c2ef5f65",
   "metadata": {},
   "outputs": [
    {
     "data": {
      "text/plain": [
       "[('al', 'sc', 'hrmo', 'sg_c', 'sg_d', 'dm_yes')]"
      ]
     },
     "execution_count": 11,
     "metadata": {},
     "output_type": "execute_result"
    }
   ],
   "source": [
    "SFSlist2"
   ]
  },
  {
   "cell_type": "code",
   "execution_count": 12,
   "id": "dee2532c",
   "metadata": {},
   "outputs": [],
   "source": [
    "for i in SFSlist:   \n",
    "    \n",
    "\n",
    "    X_train, X_test, y_train, y_test,sc=split_scalar(i,dep_Y)   \n",
    "    \n",
    "    \n",
    "    classifier,Accuracy,report,X_test,y_test,cm=random(X_train,y_train,X_test)  \n",
    "    accrf.append(Accuracy)\n",
    "    \n",
    "    \n",
    "result=sfs_classification(accrf)"
   ]
  },
  {
   "cell_type": "code",
   "execution_count": 13,
   "id": "8dc81f2a",
   "metadata": {},
   "outputs": [
    {
     "data": {
      "text/html": [
       "<div>\n",
       "<style scoped>\n",
       "    .dataframe tbody tr th:only-of-type {\n",
       "        vertical-align: middle;\n",
       "    }\n",
       "\n",
       "    .dataframe tbody tr th {\n",
       "        vertical-align: top;\n",
       "    }\n",
       "\n",
       "    .dataframe thead th {\n",
       "        text-align: right;\n",
       "    }\n",
       "</style>\n",
       "<table border=\"1\" class=\"dataframe\">\n",
       "  <thead>\n",
       "    <tr style=\"text-align: right;\">\n",
       "      <th></th>\n",
       "      <th>Random</th>\n",
       "    </tr>\n",
       "  </thead>\n",
       "  <tbody>\n",
       "    <tr>\n",
       "      <th>SVC</th>\n",
       "      <td>1</td>\n",
       "    </tr>\n",
       "  </tbody>\n",
       "</table>\n",
       "</div>"
      ],
      "text/plain": [
       "    Random\n",
       "SVC      1"
      ]
     },
     "execution_count": 13,
     "metadata": {},
     "output_type": "execute_result"
    }
   ],
   "source": [
    "result\n",
    "#6"
   ]
  },
  {
   "cell_type": "code",
   "execution_count": 14,
   "id": "8ad711bb",
   "metadata": {},
   "outputs": [],
   "source": [
    "import pickle as pkl\n",
    "filename=\"finalized_model_SVC.sav\""
   ]
  },
  {
   "cell_type": "code",
   "execution_count": 15,
   "id": "1b58d2e6",
   "metadata": {},
   "outputs": [],
   "source": [
    "pickle.dump(classifier,open(filename,'wb'))"
   ]
  },
  {
   "cell_type": "code",
   "execution_count": 16,
   "id": "c2303d71",
   "metadata": {},
   "outputs": [],
   "source": [
    "filenamex=\"sc.pkl\""
   ]
  },
  {
   "cell_type": "code",
   "execution_count": 17,
   "id": "e19f5fb1",
   "metadata": {},
   "outputs": [],
   "source": [
    "pickle.dump(sc,open(filenamex,'wb'))"
   ]
  },
  {
   "cell_type": "code",
   "execution_count": 18,
   "id": "bbf131c4",
   "metadata": {},
   "outputs": [],
   "source": [
    "sc=pickle.load(open(\"sc.pkl\",'rb'))"
   ]
  },
  {
   "cell_type": "code",
   "execution_count": 25,
   "id": "81317aa3",
   "metadata": {},
   "outputs": [
    {
     "data": {
      "text/plain": [
       "array([[ -0.65587132,  -0.55748033,   1.55577448, 121.38194619,\n",
       "         -0.46416285,   1.36930639]])"
      ]
     },
     "execution_count": 25,
     "metadata": {},
     "output_type": "execute_result"
    }
   ],
   "source": [
    "preinput = sc.transform([[0,0,16.7 ,50,0,1]])\n",
    "preinput"
   ]
  },
  {
   "cell_type": "code",
   "execution_count": 26,
   "id": "afaf2461",
   "metadata": {},
   "outputs": [],
   "source": [
    "loaded_model=pickle.load(open(\"finalized_model_SVC.sav\",'rb')) \n",
    "result = loaded_model.predict(preinput)"
   ]
  },
  {
   "cell_type": "code",
   "execution_count": 27,
   "id": "68aad0f7",
   "metadata": {},
   "outputs": [
    {
     "data": {
      "text/plain": [
       "array([1], dtype=uint8)"
      ]
     },
     "execution_count": 27,
     "metadata": {},
     "output_type": "execute_result"
    }
   ],
   "source": [
    "result"
   ]
  },
  {
   "cell_type": "code",
   "execution_count": null,
   "id": "6570c720",
   "metadata": {},
   "outputs": [],
   "source": []
  },
  {
   "cell_type": "code",
   "execution_count": null,
   "id": "9afbf571",
   "metadata": {},
   "outputs": [],
   "source": []
  },
  {
   "cell_type": "code",
   "execution_count": null,
   "id": "c2b9b3a1",
   "metadata": {},
   "outputs": [],
   "source": []
  }
 ],
 "metadata": {
  "kernelspec": {
   "display_name": "Python 3 (ipykernel)",
   "language": "python",
   "name": "python3"
  },
  "language_info": {
   "codemirror_mode": {
    "name": "ipython",
    "version": 3
   },
   "file_extension": ".py",
   "mimetype": "text/x-python",
   "name": "python",
   "nbconvert_exporter": "python",
   "pygments_lexer": "ipython3",
   "version": "3.7.1"
  }
 },
 "nbformat": 4,
 "nbformat_minor": 5
}
